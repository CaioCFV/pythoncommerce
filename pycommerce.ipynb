{
 "cells": [
  {
   "cell_type": "markdown",
   "id": "a678bb4a",
   "metadata": {},
   "source": [
    "API para Ecommerce\n",
    "- Cadastrar e listar clientes\n",
    "- Cadastar e listar produtos\n",
    "- Cadastrar e listar SKUS\n",
    "- Cadastrar e listar compras"
   ]
  },
  {
   "cell_type": "code",
   "execution_count": 116,
   "id": "41e49720",
   "metadata": {},
   "outputs": [],
   "source": [
    "import requests\n",
    "BASE_URL = 'http://127.0.0.1:5000/api'\n",
    "def api(method, url, *body):\n",
    "    if(method == 'get'):\n",
    "        return requests.get(BASE_URL+url)\n",
    "    if(method == 'post'):\n",
    "        return requests.post(BASE_URL+url, json=body[0])"
   ]
  },
  {
   "cell_type": "markdown",
   "id": "06eb4ded",
   "metadata": {},
   "source": [
    "# Cadastro de cliente"
   ]
  },
  {
   "cell_type": "code",
   "execution_count": 117,
   "id": "02242459",
   "metadata": {},
   "outputs": [],
   "source": [
    "data = {\n",
    "    \"name\": \"Helder Soares Christ\", # Nome do cliente\n",
    "\t\"cpf\": \"18364623796\" # CPF Válido\n",
    "}"
   ]
  },
  {
   "cell_type": "code",
   "execution_count": 118,
   "id": "29066e59",
   "metadata": {},
   "outputs": [
    {
     "name": "stdout",
     "output_type": "stream",
     "text": [
      "{'id': 29, 'name': 'Helder Soares Christ', 'cpf': '18364623796'}\n"
     ]
    }
   ],
   "source": [
    "response = api('post','/client', data)\n",
    "print(response.json())"
   ]
  },
  {
   "cell_type": "markdown",
   "id": "12acf940",
   "metadata": {},
   "source": [
    "# Listar Clientes"
   ]
  },
  {
   "cell_type": "code",
   "execution_count": 120,
   "id": "ffd84386",
   "metadata": {},
   "outputs": [
    {
     "name": "stdout",
     "output_type": "stream",
     "text": [
      "[\n",
      "    {\n",
      "        \"id\": 26,\n",
      "        \"name\": \"Caio Felipe Vieiro\",\n",
      "        \"cpf\": \"18364623796\"\n",
      "    },\n",
      "    {\n",
      "        \"id\": 27,\n",
      "        \"name\": \"Caio Felipe Vieira\",\n",
      "        \"cpf\": \"18364623796\"\n",
      "    },\n",
      "    {\n",
      "        \"id\": 28,\n",
      "        \"name\": \"Caio Felipe Vieiro\",\n",
      "        \"cpf\": \"18364623796\"\n",
      "    },\n",
      "    {\n",
      "        \"id\": 29,\n",
      "        \"name\": \"Helder Soares Christ\",\n",
      "        \"cpf\": \"18364623796\"\n",
      "    }\n",
      "]\n",
      "\n"
     ]
    }
   ],
   "source": [
    "response = api('get','/client')\n",
    "print(response.text)"
   ]
  },
  {
   "cell_type": "markdown",
   "id": "24b438dd",
   "metadata": {},
   "source": [
    "# Cadastro de produtos"
   ]
  },
  {
   "cell_type": "code",
   "execution_count": 123,
   "id": "057a16d3",
   "metadata": {},
   "outputs": [],
   "source": [
    "product = {\n",
    "\t\"name\": \"Camisa\", # nome do produto\n",
    "\t\"description\": \"Uma camisa florida para usar no solzin 3\" # descrição\n",
    "}"
   ]
  },
  {
   "cell_type": "code",
   "execution_count": 124,
   "id": "4fed7878",
   "metadata": {},
   "outputs": [
    {
     "name": "stdout",
     "output_type": "stream",
     "text": [
      "{\n",
      "    \"name\": {\n",
      "        \"error\": \"O nome do produto deve ter pelo menos 20 caracteres.\"\n",
      "    }\n",
      "}\n",
      "\n"
     ]
    }
   ],
   "source": [
    "response = api('post','/product', product)\n",
    "print(response.text)"
   ]
  },
  {
   "cell_type": "markdown",
   "id": "5ef6c2e4",
   "metadata": {},
   "source": [
    "# Listar produtos"
   ]
  },
  {
   "cell_type": "code",
   "execution_count": 125,
   "id": "852d4f9c",
   "metadata": {},
   "outputs": [
    {
     "name": "stdout",
     "output_type": "stream",
     "text": [
      "[\n",
      "    {\n",
      "        \"id\": 49,\n",
      "        \"name\": \"Camisa florida so jayz\",\n",
      "        \"description\": \"Uma camisa florida para usar no solzin\"\n",
      "    },\n",
      "    {\n",
      "        \"id\": 50,\n",
      "        \"name\": \"Camisa florida sol do rio de janeiro\",\n",
      "        \"description\": \"Uma camisa florida para usar no solzin 3\"\n",
      "    }\n",
      "]\n",
      "\n"
     ]
    }
   ],
   "source": [
    "response = api('get','/product')\n",
    "print(response.text)"
   ]
  },
  {
   "cell_type": "markdown",
   "id": "31dfef83",
   "metadata": {},
   "source": [
    "# Cadastrar SKU"
   ]
  },
  {
   "cell_type": "code",
   "execution_count": 130,
   "id": "02c44842",
   "metadata": {},
   "outputs": [],
   "source": [
    "variant = {\n",
    "\t\"name\": \"M\", # nome do sku\n",
    "\t\"ean\": 158, # código ean\n",
    "\t\"quantity\": 25, # quantidade em estoque\n",
    "\t\"price\": 1000, # preco R$10,00\n",
    "\t\"product_id\": 49 # id do produto correspondente\n",
    "}"
   ]
  },
  {
   "cell_type": "code",
   "execution_count": 133,
   "id": "93ba6a13",
   "metadata": {},
   "outputs": [
    {
     "name": "stdout",
     "output_type": "stream",
     "text": [
      "{\n",
      "    \"id\": 26,\n",
      "    \"name\": \"M\",\n",
      "    \"ean\": \"158\",\n",
      "    \"quantity\": 25,\n",
      "    \"price\": 1000,\n",
      "    \"product_id\": 49\n",
      "}\n",
      "\n"
     ]
    }
   ],
   "source": [
    "response = api('post','/variant', variant)\n",
    "print(response.text)"
   ]
  },
  {
   "cell_type": "markdown",
   "id": "2f96cb1a",
   "metadata": {},
   "source": [
    "# Listar variantes"
   ]
  },
  {
   "cell_type": "code",
   "execution_count": 134,
   "id": "808cee90",
   "metadata": {},
   "outputs": [
    {
     "name": "stdout",
     "output_type": "stream",
     "text": [
      "[\n",
      "    {\n",
      "        \"id\": 24,\n",
      "        \"name\": \"P\",\n",
      "        \"ean\": \"153\",\n",
      "        \"quantity\": 0,\n",
      "        \"price\": 10,\n",
      "        \"product_id\": 49\n",
      "    },\n",
      "    {\n",
      "        \"id\": 25,\n",
      "        \"name\": \"P\",\n",
      "        \"ean\": \"157\",\n",
      "        \"quantity\": 15,\n",
      "        \"price\": 10,\n",
      "        \"product_id\": 49\n",
      "    },\n",
      "    {\n",
      "        \"id\": 26,\n",
      "        \"name\": \"M\",\n",
      "        \"ean\": \"158\",\n",
      "        \"quantity\": 25,\n",
      "        \"price\": 1000,\n",
      "        \"product_id\": 49\n",
      "    }\n",
      "]\n",
      "\n"
     ]
    }
   ],
   "source": [
    "response = api('get','/variant')\n",
    "print(response.text)"
   ]
  },
  {
   "cell_type": "markdown",
   "id": "00d53125",
   "metadata": {},
   "source": [
    "# Criar um pedido"
   ]
  },
  {
   "cell_type": "code",
   "execution_count": 135,
   "id": "99d5acc8",
   "metadata": {},
   "outputs": [],
   "source": [
    "order = {\n",
    "\t\"client_id\": 26,\n",
    "\t\"variants\": [25]\n",
    "}"
   ]
  },
  {
   "cell_type": "code",
   "execution_count": 136,
   "id": "95241199",
   "metadata": {},
   "outputs": [
    {
     "name": "stdout",
     "output_type": "stream",
     "text": [
      "{\n",
      "    \"order_id\": 39,\n",
      "    \"date\": \"08/06/2025\",\n",
      "    \"client_id\": 26,\n",
      "    \"variants\": [\n",
      "        {\n",
      "            \"id\": 25,\n",
      "            \"name\": \"P\",\n",
      "            \"ean\": \"157\",\n",
      "            \"quantity\": 14,\n",
      "            \"price\": 10,\n",
      "            \"product_id\": 49\n",
      "        }\n",
      "    ],\n",
      "    \"total\": 10\n",
      "}\n",
      "\n"
     ]
    }
   ],
   "source": [
    "response = api('post','/order', order)\n",
    "print(response.text)"
   ]
  }
 ],
 "metadata": {
  "kernelspec": {
   "display_name": "Python 3",
   "language": "python",
   "name": "python3"
  },
  "language_info": {
   "codemirror_mode": {
    "name": "ipython",
    "version": 3
   },
   "file_extension": ".py",
   "mimetype": "text/x-python",
   "name": "python",
   "nbconvert_exporter": "python",
   "pygments_lexer": "ipython3",
   "version": "3.12.3"
  }
 },
 "nbformat": 4,
 "nbformat_minor": 5
}
